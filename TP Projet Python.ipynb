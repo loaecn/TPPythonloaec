{
 "cells": [
  {
   "cell_type": "markdown",
   "metadata": {},
   "source": [
    "Exercice 1 : Puissance 4\n",
    "=="
   ]
  },
  {
   "cell_type": "code",
   "execution_count": 18,
   "metadata": {
    "collapsed": false
   },
   "outputs": [],
   "source": [
    "from tkinter import*\n",
    "\n",
    "puissance4=Tk()\n",
    "cnv=Canvas(puissance4, width=700, height=600, background='blue')\n",
    "g=Label(puissance4, width=200, height=1, background='blue')\n",
    "cnv.pack()\n",
    "g.pack()\n",
    "\n",
    "for i in range(7):\n",
    "    for j in range(6):\n",
    "        x=i*100+50\n",
    "        y=j*100+50\n",
    "        r=40\n",
    "        if((i==2 and j==3) or (i==2 and j==5)):\n",
    "            cercle=cnv.create_oval(x-r,y-r,x+r, y+r, fill='red')\n",
    "        elif((i==2 and j==4) or (i==3 and j==5)):\n",
    "            cercle=cnv.create_oval(x-r,y-r,x+r, y+r, fill='yellow')\n",
    "        else:\n",
    "            cercle=cnv.create_oval(x-r,y-r,x+r, y+r, fill='white')\n",
    "    \n",
    "puissance4.mainloop()"
   ]
  },
  {
   "cell_type": "markdown",
   "metadata": {},
   "source": [
    "Exercice 2 : La forêt\n",
    "=="
   ]
  },
  {
   "cell_type": "code",
   "execution_count": 28,
   "metadata": {
    "collapsed": false
   },
   "outputs": [],
   "source": [
    "from tkinter import*\n",
    "from random import*\n",
    "foret=Tk()\n",
    "WIDTH=500\n",
    "HEIGHT=500\n",
    "cnv=Canvas(foret,width=WIDTH,height=HEIGHT)\n",
    "cnv.pack(padx=20,pady=20)\n",
    "cnv.create_rectangle(100, 100, 100, 100, fill='green')\n",
    "\n",
    "      \n",
    "foret.mainloop()"
   ]
  },
  {
   "cell_type": "code",
   "execution_count": null,
   "metadata": {
    "collapsed": true
   },
   "outputs": [],
   "source": []
  }
 ],
 "metadata": {
  "kernelspec": {
   "display_name": "Python 3",
   "language": "python",
   "name": "python3"
  },
  "language_info": {
   "codemirror_mode": {
    "name": "ipython",
    "version": 3
   },
   "file_extension": ".py",
   "mimetype": "text/x-python",
   "name": "python",
   "nbconvert_exporter": "python",
   "pygments_lexer": "ipython3",
   "version": "3.5.3"
  }
 },
 "nbformat": 4,
 "nbformat_minor": 2
}
